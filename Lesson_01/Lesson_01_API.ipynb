{
 "cells": [
  {
   "cell_type": "markdown",
   "id": "10d302cf",
   "metadata": {},
   "source": [
    "# Практическая работа по курсу: Методы сбора и обработки данных из сети Интернет\n",
    "\n",
    "### Урок 1. Основы клиент-серверного взаимодействия. Работа с API\n",
    "\n",
    "### Задание 1. Посмотреть документацию к API GitHub, разобраться как вывести список репозиториев для конкретного пользователя, сохранить JSON-вывод в файле *.json."
   ]
  },
  {
   "cell_type": "code",
   "execution_count": 1,
   "id": "3f822f78",
   "metadata": {},
   "outputs": [],
   "source": [
    "import requests\n",
    "import time\n",
    "import json"
   ]
  },
  {
   "cell_type": "code",
   "execution_count": 2,
   "id": "f541ca61",
   "metadata": {},
   "outputs": [
    {
     "name": "stdout",
     "output_type": "stream",
     "text": [
      "hello\n",
      "Python\n",
      "Python_DS_Kris\n",
      "Python_new\n"
     ]
    }
   ],
   "source": [
    "def user_repos(username):\n",
    "    url = f'https://api.github.com/users/{username}/repos'\n",
    "    response = requests.get(url).json()\n",
    "    with open(username + 'API_GITHub.json', 'w') as outfile:\n",
    "        json.dump(response, outfile)\n",
    "    return '\\n'.join(response[i].get('name') for i in range(len(response)))\n",
    "\n",
    "print(user_repos('Kristanna24'))"
   ]
  },
  {
   "cell_type": "markdown",
   "id": "4e4d6755",
   "metadata": {},
   "source": [
    "### Задание 2. Изучить список открытых API (https://www.programmableweb.com/category/all/apis). Найти среди них любое, требующее авторизацию (любого типа). Выполнить запросы к нему, пройдя авторизацию. Ответ сервера записать в файл.\n",
    "Если нет желания заморачиваться с поиском, возьмите API вконтакте (https://vk.com/dev/first_guide). Сделайте запрос, чтобы получить список всех сообществ на которые вы подписаны."
   ]
  },
  {
   "cell_type": "code",
   "execution_count": 3,
   "id": "81af4cf9",
   "metadata": {},
   "outputs": [
    {
     "name": "stdout",
     "output_type": "stream",
     "text": [
      "https://samples.openweathermap.org/data/2.5/weather?q=London&appid=b6907d289e10d714a6e88b30761fae22\n",
      "Получен результат\n",
      "{'coord': {'lon': -0.13, 'lat': 51.51}, 'weather': [{'id': 300, 'main': 'Drizzle', 'description': 'light intensity drizzle', 'icon': '09d'}], 'base': 'stations', 'main': {'temp': 280.32, 'pressure': 1012, 'humidity': 81, 'temp_min': 279.15, 'temp_max': 281.15}, 'visibility': 10000, 'wind': {'speed': 4.1, 'deg': 80}, 'clouds': {'all': 90}, 'dt': 1485789600, 'sys': {'type': 1, 'id': 5091, 'message': 0.0103, 'country': 'GB', 'sunrise': 1485762037, 'sunset': 1485794875}, 'id': 2643743, 'name': 'London', 'cod': 200}\n"
     ]
    }
   ],
   "source": [
    "def get_data(service, appid,city):\n",
    "    while True:\n",
    "        time.sleep(1)\n",
    "        url = f'{service}?q={city}&appid={appid}'\n",
    "        response = requests.get(url)\n",
    "        if response.status_code == 200:\n",
    "            print(url)\n",
    "            break\n",
    "    return response.json()\n",
    "\n",
    "appid = 'b6907d289e10d714a6e88b30761fae22'\n",
    "service = 'https://samples.openweathermap.org/data/2.5/weather'\n",
    "city = 'London'\n",
    "response = get_data(service, appid, city)\n",
    "\n",
    "print('Получен результат')\n",
    "print(response)\n",
    "\n",
    "with open('weather.json', 'w') as f:\n",
    "    json_repo = json.dump(response, f)"
   ]
  }
 ],
 "metadata": {
  "kernelspec": {
   "display_name": "Python 3 (ipykernel)",
   "language": "python",
   "name": "python3"
  },
  "language_info": {
   "codemirror_mode": {
    "name": "ipython",
    "version": 3
   },
   "file_extension": ".py",
   "mimetype": "text/x-python",
   "name": "python",
   "nbconvert_exporter": "python",
   "pygments_lexer": "ipython3",
   "version": "3.9.13"
  }
 },
 "nbformat": 4,
 "nbformat_minor": 5
}
