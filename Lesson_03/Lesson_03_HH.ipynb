{
 "cells": [
  {
   "cell_type": "markdown",
   "id": "b6145d2e",
   "metadata": {},
   "source": [
    "# Практическая работа к Уроку№3 Парсинг данных. HTML, Beautiful Soap\n",
    "\n",
    "### Задание 1. Развернуть у себя на компьютере/виртуальной машине/хостинге MongoDB и реализовать функцию, которая будет добавлять только новые вакансии в вашу базу.\n"
   ]
  },
  {
   "cell_type": "markdown",
   "id": "48fbbf9a",
   "metadata": {},
   "source": [
    "### Задание 2. Написать функцию, которая производит поиск и выводит на экран вакансии с заработной платой больше введённой суммы (необходимо анализировать оба поля зарплаты, то есть цифра вводится одна, а запрос проверяет оба поля)"
   ]
  },
  {
   "cell_type": "code",
   "execution_count": 1,
   "id": "5926da56",
   "metadata": {},
   "outputs": [],
   "source": [
    "from pymongo import MongoClient\n",
    "import requests\n",
    "from bs4 import BeautifulSoup as bs\n",
    "from pprint import pprint\n",
    "from pymongo import MongoClient"
   ]
  },
  {
   "cell_type": "code",
   "execution_count": 2,
   "id": "edf0a1bf",
   "metadata": {},
   "outputs": [],
   "source": [
    "# Проверяем число или нет\n",
    "def isint(s):\n",
    "    try:\n",
    "        int(s)\n",
    "        return True\n",
    "    except ValueError:\n",
    "        return False\n",
    "\n",
    "\n",
    "# Проверяем есть ли уже такая запись в базе\n",
    "def check(s):\n",
    "    for doc in hh_vacancy.find({'link': s}):\n",
    "        return True"
   ]
  },
  {
   "cell_type": "code",
   "execution_count": 3,
   "id": "0787a35f",
   "metadata": {},
   "outputs": [],
   "source": [
    "# Подготовим базу данных\n",
    "client = MongoClient('127.0.0.1', 27017)\n",
    "\n",
    "db = client['hh_vacancy']\n",
    "hh_vacancy = db.hh_vacancy\n"
   ]
  },
  {
   "cell_type": "code",
   "execution_count": 4,
   "id": "92222ff1",
   "metadata": {},
   "outputs": [],
   "source": [
    "headers = {'User-Agent': 'Mozilla/5.0 (X11; Linux x86_64) AppleWebKit/537.36 (KHTML, like Gecko) Chrome/114.0.0.0 Safari/537.36'}\n",
    "search = 'python'\n",
    "params = {'page': 0}\n",
    "url_site = f'https://hh.ru'\n",
    "url = url_site + f'/search/vacancy?text={search}&salary=&no_magic=true&ored_clusters=true&items_on_page=20&excluded_text='\n"
   ]
  },
  {
   "cell_type": "code",
   "execution_count": null,
   "id": "201394b0",
   "metadata": {},
   "outputs": [],
   "source": [
    "session = requests.Session()\n",
    "articles_list = []\n",
    "\n",
    "while True:\n",
    "    response =session.get(url, headers=headers, params=params)\n",
    "    soup = BeautifulSoup(response.text, \"html.parser\")\n",
    "    articles = soup.find_all('div', {'class': 'vacancy-serp-item-body__main-info'})\n",
    "    if not articles:\n",
    "        break\n",
    "    for article in articles:\n",
    "        article_info = {}\n",
    "        site = 'hh.ru'\n",
    "        info = article.find('a', {'class': 'serp-item__title'})\n",
    "        name = info.text\n",
    "        link = info.get['href']\n",
    "        salary = article.find('span', {'data-qa': 'vacancy-serp__vacancy-compensation'})\n",
    "        if not salary:\n",
    "            salary_min = None\n",
    "            salary_max = None\n",
    "            salary_currency = None\n",
    "        else:\n",
    "            salary = salary.getText().replace('\\u202f', '')\n",
    "            salary = re.split(r'\\s|-', salary)\n",
    "            if  salary[0] == 'до':\n",
    "                salary_min = None\n",
    "                salary_max = int(salary[1])\n",
    "            elif salary[0] == 'от':\n",
    "                salary_min = int(salary[1])\n",
    "                salary_max = None\n",
    "            else:\n",
    "                salary_min = int(salary[0])\n",
    "                salary_max = int(salary[2])\n",
    "                salary_currency = salary[3]\n",
    "\n",
    "        article_info['salary_min'] = salary_min\n",
    "        article_info['salary_max'] = salary_max\n",
    "        article_info['salary_currency'] = salary_currency\n",
    "        article_info['site'] = site\n",
    "        article_info['name'] = name\n",
    "        article_info['link'] = link\n",
    "        articles_list.append(article_info)           \n",
    "    \n",
    "    print(f\"Обработана страница №{params['page']}\")\n",
    "    params['page'] += 1\n",
    "    \n",
    "pprint(articles_list)\n"
   ]
  },
  {
   "cell_type": "code",
   "execution_count": null,
   "id": "3fd81cfd",
   "metadata": {},
   "outputs": [],
   "source": [
    "\"\"\"\n",
    "1. Развернуть у себя на компьютере/виртуальной машине/хостинге MongoDB и реализовать функцию. \n",
    "Добавить в решение со сбором вакансий(продуктов) функцию, которая будет добавлять \n",
    "только новые вакансии/продукты в вашу базу.\n",
    "\"\"\"\n",
    " # Проверяем есть ли такая запись в базе\n",
    "        if check(article_info['link']) is True:\n",
    "            continue\n",
    "        else:\n",
    "            # Добавляем запись в базу\n",
    "            hh_vacancy.insert_one(article_info)\n",
    "\n",
    "    # Проверяем есть ли кнопка \"дальше\"\n",
    "    if not button_next or not response.ok:\n",
    "        break\n",
    "\n",
    "    # Добавляем в параметры страницу\n",
    "    page += 1"
   ]
  },
  {
   "cell_type": "code",
   "execution_count": null,
   "id": "30c8b3f1",
   "metadata": {},
   "outputs": [],
   "source": [
    "\"\"\"\n",
    "2. Написать функцию, которая производит поиск и выводит на экран вакансии с заработной платой больше введённой суммы \n",
    "(необходимо анализировать оба поля зарплаты - минимальнную и максимульную). \n",
    "\"\"\"\n",
    "# Проверяем есть ли null\n",
    "def check(s):\n",
    "    if s:\n",
    "        return s\n",
    "    else:\n",
    "        return int('0')\n",
    "\n",
    "\n",
    "salary_info = int(input('Введите желаемую зарплату: '))\n",
    "\n",
    "for doc in hh_vacancy.find({'$or': [{'salary_currency': 'руб.'},\n",
    "                                    {'salary_currency': 'USD'},\n",
    "                                    ]\n",
    "                            },\n",
    "                           ):\n",
    "    if doc['salary_currency'] == 'руб.':\n",
    "        if check(doc['salary_min']) > salary_info or check(doc['salary_max']) > salary_info:\n",
    "            pprint(doc)\n",
    "    elif doc['salary_currency'] == 'USD':\n",
    "        if (check(doc['salary_min']) * 80) > salary_info or (check(doc['salary_max']) * 80) > salary_info:\n",
    "            pprint(doc)\n",
    "    else:\n",
    "        continue"
   ]
  }
 ],
 "metadata": {
  "kernelspec": {
   "display_name": "Python 3 (ipykernel)",
   "language": "python",
   "name": "python3"
  },
  "language_info": {
   "codemirror_mode": {
    "name": "ipython",
    "version": 3
   },
   "file_extension": ".py",
   "mimetype": "text/x-python",
   "name": "python",
   "nbconvert_exporter": "python",
   "pygments_lexer": "ipython3",
   "version": "3.9.13"
  }
 },
 "nbformat": 4,
 "nbformat_minor": 5
}
